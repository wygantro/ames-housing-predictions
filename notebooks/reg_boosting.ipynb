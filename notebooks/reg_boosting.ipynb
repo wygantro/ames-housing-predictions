{
 "cells": [
  {
   "cell_type": "code",
   "execution_count": 1,
   "id": "a4c30bc6",
   "metadata": {},
   "outputs": [],
   "source": [
    "# import dependencies and global settings\n",
    "import numpy as np\n",
    "import pandas as pd\n",
    "import matplotlib.pyplot as plt\n",
    "import plotly.graph_objects as go\n",
    "\n",
    "from sklearn import preprocessing\n",
    "from sklearn.model_selection import KFold, GridSearchCV\n",
    "from sklearn.ensemble import GradientBoostingRegressor\n",
    "from sklearn.metrics import mean_absolute_error\n",
    "\n",
    "import pickle"
   ]
  },
  {
   "cell_type": "code",
   "execution_count": 2,
   "id": "8c0eabd7",
   "metadata": {},
   "outputs": [],
   "source": [
    "# load linear features (X) and target variable (y) dataframes\n",
    "X = pd.read_csv('./data_frames/housing_X_features.csv', index_col=0)\n",
    "y = pd.read_csv('./data_frames/housing_y_target.csv', index_col=0)"
   ]
  },
  {
   "cell_type": "code",
   "execution_count": 3,
   "id": "38d058dd",
   "metadata": {},
   "outputs": [],
   "source": [
    "# label encode non numeric columns\n",
    "label_encoder = preprocessing.LabelEncoder()\n",
    "\n",
    "for col in list(X.select_dtypes(['object']).columns):\n",
    "    X[col] = label_encoder.fit_transform(X[col])"
   ]
  },
  {
   "cell_type": "code",
   "execution_count": 4,
   "id": "1998a97d",
   "metadata": {},
   "outputs": [],
   "source": [
    "reg_boost_model = GradientBoostingRegressor(learning_rate=0.1, random_state=0, loss='squared_error')\n",
    "\n",
    "grid_para_forest = {'max_depth': range(1, 21),\n",
    "                    'n_estimators': range(10, 200, 20)}"
   ]
  },
  {
   "cell_type": "code",
   "execution_count": 5,
   "id": "701ab9bb",
   "metadata": {},
   "outputs": [],
   "source": [
    "k=5\n",
    "cv = KFold(n_splits=k, shuffle=True, random_state=12)\n",
    "reg_boost_clf = GridSearchCV(reg_boost_model, grid_para_forest, scoring='r2', cv=cv)"
   ]
  },
  {
   "cell_type": "code",
   "execution_count": 6,
   "id": "18c8efa7",
   "metadata": {
    "scrolled": true
   },
   "outputs": [
    {
     "name": "stdout",
     "output_type": "stream",
     "text": [
      "CPU times: total: 42min 50s\n",
      "Wall time: 43min 16s\n"
     ]
    },
    {
     "data": {
      "text/html": [
       "<style>#sk-container-id-1 {color: black;background-color: white;}#sk-container-id-1 pre{padding: 0;}#sk-container-id-1 div.sk-toggleable {background-color: white;}#sk-container-id-1 label.sk-toggleable__label {cursor: pointer;display: block;width: 100%;margin-bottom: 0;padding: 0.3em;box-sizing: border-box;text-align: center;}#sk-container-id-1 label.sk-toggleable__label-arrow:before {content: \"▸\";float: left;margin-right: 0.25em;color: #696969;}#sk-container-id-1 label.sk-toggleable__label-arrow:hover:before {color: black;}#sk-container-id-1 div.sk-estimator:hover label.sk-toggleable__label-arrow:before {color: black;}#sk-container-id-1 div.sk-toggleable__content {max-height: 0;max-width: 0;overflow: hidden;text-align: left;background-color: #f0f8ff;}#sk-container-id-1 div.sk-toggleable__content pre {margin: 0.2em;color: black;border-radius: 0.25em;background-color: #f0f8ff;}#sk-container-id-1 input.sk-toggleable__control:checked~div.sk-toggleable__content {max-height: 200px;max-width: 100%;overflow: auto;}#sk-container-id-1 input.sk-toggleable__control:checked~label.sk-toggleable__label-arrow:before {content: \"▾\";}#sk-container-id-1 div.sk-estimator input.sk-toggleable__control:checked~label.sk-toggleable__label {background-color: #d4ebff;}#sk-container-id-1 div.sk-label input.sk-toggleable__control:checked~label.sk-toggleable__label {background-color: #d4ebff;}#sk-container-id-1 input.sk-hidden--visually {border: 0;clip: rect(1px 1px 1px 1px);clip: rect(1px, 1px, 1px, 1px);height: 1px;margin: -1px;overflow: hidden;padding: 0;position: absolute;width: 1px;}#sk-container-id-1 div.sk-estimator {font-family: monospace;background-color: #f0f8ff;border: 1px dotted black;border-radius: 0.25em;box-sizing: border-box;margin-bottom: 0.5em;}#sk-container-id-1 div.sk-estimator:hover {background-color: #d4ebff;}#sk-container-id-1 div.sk-parallel-item::after {content: \"\";width: 100%;border-bottom: 1px solid gray;flex-grow: 1;}#sk-container-id-1 div.sk-label:hover label.sk-toggleable__label {background-color: #d4ebff;}#sk-container-id-1 div.sk-serial::before {content: \"\";position: absolute;border-left: 1px solid gray;box-sizing: border-box;top: 0;bottom: 0;left: 50%;z-index: 0;}#sk-container-id-1 div.sk-serial {display: flex;flex-direction: column;align-items: center;background-color: white;padding-right: 0.2em;padding-left: 0.2em;position: relative;}#sk-container-id-1 div.sk-item {position: relative;z-index: 1;}#sk-container-id-1 div.sk-parallel {display: flex;align-items: stretch;justify-content: center;background-color: white;position: relative;}#sk-container-id-1 div.sk-item::before, #sk-container-id-1 div.sk-parallel-item::before {content: \"\";position: absolute;border-left: 1px solid gray;box-sizing: border-box;top: 0;bottom: 0;left: 50%;z-index: -1;}#sk-container-id-1 div.sk-parallel-item {display: flex;flex-direction: column;z-index: 1;position: relative;background-color: white;}#sk-container-id-1 div.sk-parallel-item:first-child::after {align-self: flex-end;width: 50%;}#sk-container-id-1 div.sk-parallel-item:last-child::after {align-self: flex-start;width: 50%;}#sk-container-id-1 div.sk-parallel-item:only-child::after {width: 0;}#sk-container-id-1 div.sk-dashed-wrapped {border: 1px dashed gray;margin: 0 0.4em 0.5em 0.4em;box-sizing: border-box;padding-bottom: 0.4em;background-color: white;}#sk-container-id-1 div.sk-label label {font-family: monospace;font-weight: bold;display: inline-block;line-height: 1.2em;}#sk-container-id-1 div.sk-label-container {text-align: center;}#sk-container-id-1 div.sk-container {/* jupyter's `normalize.less` sets `[hidden] { display: none; }` but bootstrap.min.css set `[hidden] { display: none !important; }` so we also need the `!important` here to be able to override the default hidden behavior on the sphinx rendered scikit-learn.org. See: https://github.com/scikit-learn/scikit-learn/issues/21755 */display: inline-block !important;position: relative;}#sk-container-id-1 div.sk-text-repr-fallback {display: none;}</style><div id=\"sk-container-id-1\" class=\"sk-top-container\"><div class=\"sk-text-repr-fallback\"><pre>GridSearchCV(cv=KFold(n_splits=5, random_state=12, shuffle=True),\n",
       "             estimator=GradientBoostingRegressor(random_state=0),\n",
       "             param_grid={&#x27;max_depth&#x27;: range(1, 21),\n",
       "                         &#x27;n_estimators&#x27;: range(10, 200, 20)},\n",
       "             scoring=&#x27;r2&#x27;)</pre><b>In a Jupyter environment, please rerun this cell to show the HTML representation or trust the notebook. <br />On GitHub, the HTML representation is unable to render, please try loading this page with nbviewer.org.</b></div><div class=\"sk-container\" hidden><div class=\"sk-item sk-dashed-wrapped\"><div class=\"sk-label-container\"><div class=\"sk-label sk-toggleable\"><input class=\"sk-toggleable__control sk-hidden--visually\" id=\"sk-estimator-id-1\" type=\"checkbox\" ><label for=\"sk-estimator-id-1\" class=\"sk-toggleable__label sk-toggleable__label-arrow\">GridSearchCV</label><div class=\"sk-toggleable__content\"><pre>GridSearchCV(cv=KFold(n_splits=5, random_state=12, shuffle=True),\n",
       "             estimator=GradientBoostingRegressor(random_state=0),\n",
       "             param_grid={&#x27;max_depth&#x27;: range(1, 21),\n",
       "                         &#x27;n_estimators&#x27;: range(10, 200, 20)},\n",
       "             scoring=&#x27;r2&#x27;)</pre></div></div></div><div class=\"sk-parallel\"><div class=\"sk-parallel-item\"><div class=\"sk-item\"><div class=\"sk-label-container\"><div class=\"sk-label sk-toggleable\"><input class=\"sk-toggleable__control sk-hidden--visually\" id=\"sk-estimator-id-2\" type=\"checkbox\" ><label for=\"sk-estimator-id-2\" class=\"sk-toggleable__label sk-toggleable__label-arrow\">estimator: GradientBoostingRegressor</label><div class=\"sk-toggleable__content\"><pre>GradientBoostingRegressor(random_state=0)</pre></div></div></div><div class=\"sk-serial\"><div class=\"sk-item\"><div class=\"sk-estimator sk-toggleable\"><input class=\"sk-toggleable__control sk-hidden--visually\" id=\"sk-estimator-id-3\" type=\"checkbox\" ><label for=\"sk-estimator-id-3\" class=\"sk-toggleable__label sk-toggleable__label-arrow\">GradientBoostingRegressor</label><div class=\"sk-toggleable__content\"><pre>GradientBoostingRegressor(random_state=0)</pre></div></div></div></div></div></div></div></div></div></div>"
      ],
      "text/plain": [
       "GridSearchCV(cv=KFold(n_splits=5, random_state=12, shuffle=True),\n",
       "             estimator=GradientBoostingRegressor(random_state=0),\n",
       "             param_grid={'max_depth': range(1, 21),\n",
       "                         'n_estimators': range(10, 200, 20)},\n",
       "             scoring='r2')"
      ]
     },
     "execution_count": 6,
     "metadata": {},
     "output_type": "execute_result"
    }
   ],
   "source": [
    "%time reg_boost_clf.fit(X, np.ravel(y))"
   ]
  },
  {
   "cell_type": "code",
   "execution_count": 7,
   "id": "ab9f8c30",
   "metadata": {},
   "outputs": [
    {
     "ename": "NameError",
     "evalue": "name 'reg_boosting' is not defined",
     "output_type": "error",
     "traceback": [
      "\u001b[1;31m---------------------------------------------------------------------------\u001b[0m",
      "\u001b[1;31mNameError\u001b[0m                                 Traceback (most recent call last)",
      "Cell \u001b[1;32mIn[7], line 5\u001b[0m\n\u001b[0;32m      3\u001b[0m filename \u001b[38;5;241m=\u001b[39m \u001b[38;5;124m'\u001b[39m\u001b[38;5;124m./models/reg_boosting.pkl\u001b[39m\u001b[38;5;124m'\u001b[39m\n\u001b[0;32m      4\u001b[0m outfile \u001b[38;5;241m=\u001b[39m \u001b[38;5;28mopen\u001b[39m(filename,\u001b[38;5;124m'\u001b[39m\u001b[38;5;124mwb\u001b[39m\u001b[38;5;124m'\u001b[39m)\n\u001b[1;32m----> 5\u001b[0m pickle\u001b[38;5;241m.\u001b[39mdump(\u001b[43mreg_boosting\u001b[49m, outfile)\n\u001b[0;32m      6\u001b[0m outfile\u001b[38;5;241m.\u001b[39mclose()\n",
      "\u001b[1;31mNameError\u001b[0m: name 'reg_boosting' is not defined"
     ]
    }
   ],
   "source": [
    "reg_boost = reg_boost_clf\n",
    "# save rfr_boosting to pickle file\n",
    "filename = './models/reg_boosting.pkl'\n",
    "outfile = open(filename,'wb')\n",
    "pickle.dump(reg_boosting, outfile)\n",
    "outfile.close()"
   ]
  },
  {
   "cell_type": "code",
   "execution_count": null,
   "id": "3093c91c",
   "metadata": {},
   "outputs": [],
   "source": [
    "# open stacking_clf.pkl\n",
    "# filename = './models/reg_boost.pkl'\n",
    "# file = open(filename, 'rb')\n",
    "# reg_boost = pickle.load(file)"
   ]
  },
  {
   "cell_type": "code",
   "execution_count": null,
   "id": "f60a60b4",
   "metadata": {},
   "outputs": [],
   "source": [
    "# print mean_test_score from cross validation and mean absolute error\n",
    "print('Max Mean Test Value (r^2):' + str(reg_boost.cv_results_['mean_test_score'][reg_boost.best_index_]))\n",
    "\n",
    "y_pred = reg_boost.best_estimator_.predict(X)\n",
    "print('Mean Absolute Error:' + str(mean_absolute_error(y, y_pred)))"
   ]
  },
  {
   "cell_type": "code",
   "execution_count": null,
   "id": "4baf9f83",
   "metadata": {},
   "outputs": [],
   "source": [
    "# create dataframe of results and pivot table\n",
    "df = pd.concat([pd.DataFrame(reg_boost.cv_results_['params']), pd.DataFrame(reg_boost.cv_results_['mean_test_score'], columns=['Score'])] ,axis=1)\n",
    "cv_table = df.pivot(index='max_depth', columns='n_estimators')\n",
    "cv_table"
   ]
  },
  {
   "cell_type": "code",
   "execution_count": null,
   "id": "fbfdf79a",
   "metadata": {},
   "outputs": [],
   "source": [
    "fig = go.Figure(data=[go.Surface(z=cv_table.values)])\n",
    "\n",
    "fig.update_layout(title='Boosting Grid Search',\n",
    "                  autosize=False,\n",
    "                  width=800,\n",
    "                  height=800,\n",
    "                  margin=dict(l=65, r=50, b=65, t=90),\n",
    "                  scene = dict(yaxis_title='N Estimators',\n",
    "                               yaxis = dict(\n",
    "                                   ticktext= ['19','17','15','13','11','9','7','5','3','1'],\n",
    "                                   tickvals= [0,3,5,7,9,11,13,15,17,19]\n",
    "                               ),\n",
    "                               xaxis_title='Max Depth',\n",
    "                               xaxis = dict(\n",
    "                                   ticktext= ['10','30','50','70','90','110','130','150','170','190'],\n",
    "                                   tickvals= [0,1,2,3,4,5,6,7,8,9]\n",
    "                               ),\n",
    "                               zaxis_title='Score')\n",
    "                 )\n",
    "\n",
    "fig.show()"
   ]
  },
  {
   "cell_type": "code",
   "execution_count": null,
   "id": "9f4ae8e6",
   "metadata": {},
   "outputs": [],
   "source": []
  }
 ],
 "metadata": {
  "kernelspec": {
   "display_name": "Python 3 (ipykernel)",
   "language": "python",
   "name": "python3"
  },
  "language_info": {
   "codemirror_mode": {
    "name": "ipython",
    "version": 3
   },
   "file_extension": ".py",
   "mimetype": "text/x-python",
   "name": "python",
   "nbconvert_exporter": "python",
   "pygments_lexer": "ipython3",
   "version": "3.11.1"
  }
 },
 "nbformat": 4,
 "nbformat_minor": 5
}
