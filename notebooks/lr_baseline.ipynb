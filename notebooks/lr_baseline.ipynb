{
 "cells": [
  {
   "cell_type": "code",
   "execution_count": null,
   "id": "a0464cda",
   "metadata": {},
   "outputs": [],
   "source": [
    "# import dependencies and global settings\n",
    "import numpy as np\n",
    "import pandas as pd\n",
    "\n",
    "from sklearn.linear_model import LinearRegression\n",
    "from sklearn.model_selection import KFold, cross_validate, cross_val_predict\n",
    "from sklearn.metrics import mean_absolute_error\n",
    "import pickle"
   ]
  },
  {
   "cell_type": "code",
   "execution_count": null,
   "id": "1989c392",
   "metadata": {},
   "outputs": [],
   "source": [
    "# load linear features (X) and target variable (y) dataframes\n",
    "X = pd.read_csv('./data_frames/housing_X_features.csv', index_col=0)\n",
    "y = pd.read_csv('./data_frames/housing_y_target.csv', index_col=0)"
   ]
  },
  {
   "cell_type": "code",
   "execution_count": null,
   "id": "a72fc1d8",
   "metadata": {},
   "outputs": [],
   "source": [
    "# dummy encode all categorical features\n",
    "X = pd.get_dummies(X, drop_first=True)"
   ]
  },
  {
   "cell_type": "code",
   "execution_count": null,
   "id": "a312e992",
   "metadata": {},
   "outputs": [],
   "source": [
    "# cross validation\n",
    "lr_base = LinearRegression()\n",
    "k=5\n",
    "cv = KFold(n_splits=k, shuffle=True, random_state=12)\n",
    "baseline_cv_results = cross_validate(lr_base, X, y, cv=cv, return_train_score=True, return_estimator=True)\n",
    "#cv_pred = cross_val_predict(lr_base, X, y, cv=cv)\n",
    "\n",
    "for test_score in cv_results['test_score']:\n",
    "    print(test_score)\n",
    "\n",
    "#print('Mean Score (r^2)=' + str(cv_results['test_score'].mean()))"
   ]
  },
  {
   "cell_type": "code",
   "execution_count": null,
   "id": "e3773cdf",
   "metadata": {},
   "outputs": [],
   "source": [
    "lr_baseline = baseline_cv_results\n",
    "# save lr_baseline to pickle file\n",
    "filename = './models/lr_baseline.pkl'\n",
    "outfile = open(filename,'wb')\n",
    "pickle.dump(lr_baseline, outfile)\n",
    "outfile.close()"
   ]
  },
  {
   "cell_type": "code",
   "execution_count": null,
   "id": "1bfc3880",
   "metadata": {},
   "outputs": [],
   "source": [
    "# find and save best model from cv\n",
    "baseline_best_model = baseline_cv_results['estimator'][np.where(baseline_cv_results['test_score'] == \n",
    "                                                                baseline_cv_results['test_score'])[0][0]]\n",
    "\n",
    "#calculate MAE\n",
    "y_pred = baseline_best_model.predict(X)\n",
    "print('Mean Absolute Error:' + str(mean_absolute_error(y, y_pred)))"
   ]
  }
 ],
 "metadata": {
  "kernelspec": {
   "display_name": "Python 3 (ipykernel)",
   "language": "python",
   "name": "python3"
  },
  "language_info": {
   "codemirror_mode": {
    "name": "ipython",
    "version": 3
   },
   "file_extension": ".py",
   "mimetype": "text/x-python",
   "name": "python",
   "nbconvert_exporter": "python",
   "pygments_lexer": "ipython3",
   "version": "3.11.1"
  }
 },
 "nbformat": 4,
 "nbformat_minor": 5
}
