{
 "cells": [
  {
   "cell_type": "code",
   "execution_count": 17,
   "id": "f6091d59",
   "metadata": {},
   "outputs": [],
   "source": [
    "# import dependencies and global settings\n",
    "import numpy as np\n",
    "import pandas as pd\n",
    "import matplotlib.pyplot as plt\n",
    "import seaborn as sns\n",
    "sns.set_style('whitegrid')\n",
    "\n",
    "from sklearn.model_selection import KFold, StratifiedKFold, cross_validate, cross_val_predict, cross_val_score\n",
    "from sklearn.ensemble import StackingRegressor, RandomForestRegressor\n",
    "from sklearn.metrics import mean_absolute_error\n",
    "\n",
    "import pickle"
   ]
  },
  {
   "cell_type": "code",
   "execution_count": 18,
   "id": "5e2030bc",
   "metadata": {},
   "outputs": [],
   "source": [
    "# load linear features (X) and target variable (y) dataframes\n",
    "X = pd.read_csv('./data_frames/housing_X_features.csv', index_col=0)\n",
    "y = pd.read_csv('./data_frames/housing_y_target.csv', index_col=0)"
   ]
  },
  {
   "cell_type": "code",
   "execution_count": 19,
   "id": "5539affe",
   "metadata": {},
   "outputs": [],
   "source": [
    "# dummy encode all categorical features\n",
    "X = pd.get_dummies(X, drop_first=True)"
   ]
  },
  {
   "cell_type": "markdown",
   "id": "874dc3b6",
   "metadata": {},
   "source": [
    "## Load models and train stacking regressor"
   ]
  },
  {
   "cell_type": "code",
   "execution_count": 20,
   "id": "d16627b7",
   "metadata": {},
   "outputs": [],
   "source": [
    "# load models\n",
    "lr_lasso = pd.read_pickle(r'./models/lr_lasso.pkl')\n",
    "rfr_bagging = pd.read_pickle(r'./models/rfr_bagging.pkl')\n",
    "rfr_boosting = pd.read_pickle(r'./models/rfr_boosting.pkl')"
   ]
  },
  {
   "cell_type": "code",
   "execution_count": 21,
   "id": "0f20dfab",
   "metadata": {},
   "outputs": [],
   "source": [
    "level_0_estimators = dict()\n",
    "level_0_estimators[\"lr_lasso\"] = lr_lasso.best_estimator_\n",
    "level_0_estimators[\"rfr_bagging\"] = rfr_bagging.best_estimator_\n",
    "level_0_estimators[\"rfr_boosting\"] = rfr_boosting.best_estimator_\n",
    " \n",
    "level_0_columns = [f\"{name}_prediction\" for name in level_0_estimators.keys()]\n",
    "\n",
    "rand_state=12\n",
    "level_1_estimator = RandomForestRegressor(random_state=rand_state)"
   ]
  },
  {
   "cell_type": "code",
   "execution_count": 22,
   "id": "0094c586",
   "metadata": {},
   "outputs": [],
   "source": [
    "k=5\n",
    "cv = KFold(n_splits=k, shuffle=True, random_state=12)\n",
    "stacking_clf = StackingRegressor(estimators=list(level_0_estimators.items()),\n",
    "                                 final_estimator=level_1_estimator,\n",
    "                                 passthrough=True,\n",
    "                                 cv=cv)"
   ]
  },
  {
   "cell_type": "code",
   "execution_count": 23,
   "id": "2438ec9d",
   "metadata": {},
   "outputs": [
    {
     "name": "stdout",
     "output_type": "stream",
     "text": [
      "CPU times: total: 2min 28s\n",
      "Wall time: 2min 33s\n",
      "0.9382155732388875\n",
      "0.8894324162045191\n",
      "0.9135747175913191\n",
      "0.947271902608991\n",
      "0.9403937522032422\n",
      "Mean Score (r^2)=0.9257776723693917\n"
     ]
    }
   ],
   "source": [
    "# cross validation\n",
    "k=5\n",
    "cv = KFold(n_splits=k, shuffle=True, random_state=12)\n",
    "%time stacking_cv_results = cross_validate(stacking_clf, X, np.ravel(y), cv=cv, return_train_score=True, return_estimator=True)\n",
    "\n",
    "for test_score in stacking_cv_results['test_score']:\n",
    "    print(test_score)\n",
    "    # test_error = 1 - test_score\n",
    "    # print(test_error)\n",
    "\n",
    "print('Mean Score (r^2)=' + str(stacking_cv_results['test_score'].mean()))"
   ]
  },
  {
   "cell_type": "code",
   "execution_count": 24,
   "id": "0a295a49",
   "metadata": {},
   "outputs": [],
   "source": [
    "# save cv_results to pickle file\n",
    "filename = './models/stacking_cv_results.pkl'\n",
    "outfile = open(filename,'wb')\n",
    "pickle.dump(stacking_cv_results, outfile)\n",
    "outfile.close()"
   ]
  },
  {
   "cell_type": "code",
   "execution_count": 25,
   "id": "f861f46b",
   "metadata": {},
   "outputs": [
    {
     "name": "stdout",
     "output_type": "stream",
     "text": [
      "Mean Absolute Error:7002.641279069768\n"
     ]
    }
   ],
   "source": [
    "# find and save best model from cv\n",
    "stacking_best_model = stacking_cv_results['estimator'][np.where(stacking_cv_results['test_score'] == \n",
    "                                                                stacking_cv_results['test_score'])[0][0]]\n",
    "#calculate MAE\n",
    "y_pred = stacking_best_model.predict(X)\n",
    "print('Mean Absolute Error:' + str(mean_absolute_error(y, y_pred)))"
   ]
  },
  {
   "cell_type": "markdown",
   "id": "da0b8afa",
   "metadata": {},
   "source": [
    "## Save scores and plot results"
   ]
  },
  {
   "cell_type": "code",
   "execution_count": 10,
   "id": "5c20c69d",
   "metadata": {},
   "outputs": [
    {
     "data": {
      "text/plain": [
       "[0.9112616141822176,\n",
       " 0.8625246881114074,\n",
       " 0.8783154846512086,\n",
       " 0.9137929428755462,\n",
       " 0.9178827313670989]"
      ]
     },
     "execution_count": 10,
     "metadata": {},
     "output_type": "execute_result"
    }
   ],
   "source": [
    "#lasso scores\n",
    "lr_lasso_scores = [lr_lasso.cv_results_['split0_test_score'][lr_lasso.best_index_],\n",
    "                   lr_lasso.cv_results_['split1_test_score'][lr_lasso.best_index_],\n",
    "                   lr_lasso.cv_results_['split2_test_score'][lr_lasso.best_index_],\n",
    "                   lr_lasso.cv_results_['split3_test_score'][lr_lasso.best_index_],\n",
    "                   lr_lasso.cv_results_['split4_test_score'][lr_lasso.best_index_]]\n",
    "lr_lasso_scores"
   ]
  },
  {
   "cell_type": "code",
   "execution_count": 11,
   "id": "73a43b95",
   "metadata": {},
   "outputs": [
    {
     "data": {
      "text/plain": [
       "[0.9105050477582168,\n",
       " 0.8481183384237851,\n",
       " 0.8921791844673327,\n",
       " 0.9227627340462822,\n",
       " 0.9081115956908198]"
      ]
     },
     "execution_count": 11,
     "metadata": {},
     "output_type": "execute_result"
    }
   ],
   "source": [
    "#bagging scores\n",
    "rfr_bagging_scores = [rfr_bagging.cv_results_['split0_test_score'][rfr_bagging.best_index_],\n",
    "                      rfr_bagging.cv_results_['split1_test_score'][rfr_bagging.best_index_],\n",
    "                      rfr_bagging.cv_results_['split2_test_score'][rfr_bagging.best_index_],\n",
    "                      rfr_bagging.cv_results_['split3_test_score'][rfr_bagging.best_index_],\n",
    "                      rfr_bagging.cv_results_['split4_test_score'][rfr_bagging.best_index_]]\n",
    "rfr_bagging_scores"
   ]
  },
  {
   "cell_type": "code",
   "execution_count": 12,
   "id": "323da9f5",
   "metadata": {},
   "outputs": [
    {
     "data": {
      "text/plain": [
       "[0.9337330524294674,\n",
       " 0.8657725413705696,\n",
       " 0.9006609100836301,\n",
       " 0.9433033869293,\n",
       " 0.931393875428909]"
      ]
     },
     "execution_count": 12,
     "metadata": {},
     "output_type": "execute_result"
    }
   ],
   "source": [
    "#boosting scores\n",
    "rfr_boosting_scores = [rfr_boosting.cv_results_['split0_test_score'][rfr_boosting.best_index_],\n",
    "                       rfr_boosting.cv_results_['split1_test_score'][rfr_boosting.best_index_],\n",
    "                       rfr_boosting.cv_results_['split2_test_score'][rfr_boosting.best_index_],\n",
    "                       rfr_boosting.cv_results_['split3_test_score'][rfr_boosting.best_index_],\n",
    "                       rfr_boosting.cv_results_['split4_test_score'][rfr_boosting.best_index_]]\n",
    "rfr_boosting_scores"
   ]
  },
  {
   "cell_type": "code",
   "execution_count": 13,
   "id": "1c152c51",
   "metadata": {},
   "outputs": [
    {
     "data": {
      "text/plain": [
       "[0.937624819999345,\n",
       " 0.8892411650631656,\n",
       " 0.9133104001041966,\n",
       " 0.9465230314874331,\n",
       " 0.9422831497304829]"
      ]
     },
     "execution_count": 13,
     "metadata": {},
     "output_type": "execute_result"
    }
   ],
   "source": [
    "#load and save results from stacking model cv\n",
    "stacking_cv_results = pd.read_pickle(r'./models/stacking_cv_results.pkl')\n",
    "stacking_scores = list(stacking_cv_results['test_score'])\n",
    "stacking_scores"
   ]
  },
  {
   "cell_type": "code",
   "execution_count": 14,
   "id": "61ee6e90",
   "metadata": {},
   "outputs": [
    {
     "data": {
      "text/html": [
       "<div>\n",
       "<style scoped>\n",
       "    .dataframe tbody tr th:only-of-type {\n",
       "        vertical-align: middle;\n",
       "    }\n",
       "\n",
       "    .dataframe tbody tr th {\n",
       "        vertical-align: top;\n",
       "    }\n",
       "\n",
       "    .dataframe thead th {\n",
       "        text-align: right;\n",
       "    }\n",
       "</style>\n",
       "<table border=\"1\" class=\"dataframe\">\n",
       "  <thead>\n",
       "    <tr style=\"text-align: right;\">\n",
       "      <th></th>\n",
       "      <th>Penalized</th>\n",
       "      <th>Random Forest</th>\n",
       "      <th>Boosting</th>\n",
       "      <th>Stacking</th>\n",
       "    </tr>\n",
       "  </thead>\n",
       "  <tbody>\n",
       "    <tr>\n",
       "      <th>0</th>\n",
       "      <td>0.911262</td>\n",
       "      <td>0.910505</td>\n",
       "      <td>0.933733</td>\n",
       "      <td>0.937625</td>\n",
       "    </tr>\n",
       "    <tr>\n",
       "      <th>1</th>\n",
       "      <td>0.862525</td>\n",
       "      <td>0.848118</td>\n",
       "      <td>0.865773</td>\n",
       "      <td>0.889241</td>\n",
       "    </tr>\n",
       "    <tr>\n",
       "      <th>2</th>\n",
       "      <td>0.878315</td>\n",
       "      <td>0.892179</td>\n",
       "      <td>0.900661</td>\n",
       "      <td>0.913310</td>\n",
       "    </tr>\n",
       "    <tr>\n",
       "      <th>3</th>\n",
       "      <td>0.913793</td>\n",
       "      <td>0.922763</td>\n",
       "      <td>0.943303</td>\n",
       "      <td>0.946523</td>\n",
       "    </tr>\n",
       "    <tr>\n",
       "      <th>4</th>\n",
       "      <td>0.917883</td>\n",
       "      <td>0.908112</td>\n",
       "      <td>0.931394</td>\n",
       "      <td>0.942283</td>\n",
       "    </tr>\n",
       "  </tbody>\n",
       "</table>\n",
       "</div>"
      ],
      "text/plain": [
       "   Penalized  Random Forest  Boosting  Stacking\n",
       "0   0.911262       0.910505  0.933733  0.937625\n",
       "1   0.862525       0.848118  0.865773  0.889241\n",
       "2   0.878315       0.892179  0.900661  0.913310\n",
       "3   0.913793       0.922763  0.943303  0.946523\n",
       "4   0.917883       0.908112  0.931394  0.942283"
      ]
     },
     "execution_count": 14,
     "metadata": {},
     "output_type": "execute_result"
    }
   ],
   "source": [
    "#create dataframe\n",
    "df_scores = pd.DataFrame({'Penalized': lr_lasso_scores,\n",
    "                          'Random Forest': rfr_bagging_scores,\n",
    "                          'Boosting': rfr_boosting_scores,\n",
    "                          'Stacking': stacking_scores,})\n",
    "df_scores"
   ]
  },
  {
   "cell_type": "code",
   "execution_count": 15,
   "id": "b5812cac",
   "metadata": {},
   "outputs": [
    {
     "data": {
      "text/html": [
       "<div>\n",
       "<style scoped>\n",
       "    .dataframe tbody tr th:only-of-type {\n",
       "        vertical-align: middle;\n",
       "    }\n",
       "\n",
       "    .dataframe tbody tr th {\n",
       "        vertical-align: top;\n",
       "    }\n",
       "\n",
       "    .dataframe thead th {\n",
       "        text-align: right;\n",
       "    }\n",
       "</style>\n",
       "<table border=\"1\" class=\"dataframe\">\n",
       "  <thead>\n",
       "    <tr style=\"text-align: right;\">\n",
       "      <th></th>\n",
       "      <th>model_type</th>\n",
       "      <th>score</th>\n",
       "    </tr>\n",
       "  </thead>\n",
       "  <tbody>\n",
       "    <tr>\n",
       "      <th>0</th>\n",
       "      <td>Penalized</td>\n",
       "      <td>0.911262</td>\n",
       "    </tr>\n",
       "    <tr>\n",
       "      <th>1</th>\n",
       "      <td>Random Forest</td>\n",
       "      <td>0.910505</td>\n",
       "    </tr>\n",
       "    <tr>\n",
       "      <th>2</th>\n",
       "      <td>Boosting</td>\n",
       "      <td>0.933733</td>\n",
       "    </tr>\n",
       "    <tr>\n",
       "      <th>3</th>\n",
       "      <td>Stacking</td>\n",
       "      <td>0.937625</td>\n",
       "    </tr>\n",
       "    <tr>\n",
       "      <th>4</th>\n",
       "      <td>Penalized</td>\n",
       "      <td>0.862525</td>\n",
       "    </tr>\n",
       "    <tr>\n",
       "      <th>5</th>\n",
       "      <td>Random Forest</td>\n",
       "      <td>0.848118</td>\n",
       "    </tr>\n",
       "    <tr>\n",
       "      <th>6</th>\n",
       "      <td>Boosting</td>\n",
       "      <td>0.865773</td>\n",
       "    </tr>\n",
       "    <tr>\n",
       "      <th>7</th>\n",
       "      <td>Stacking</td>\n",
       "      <td>0.889241</td>\n",
       "    </tr>\n",
       "    <tr>\n",
       "      <th>8</th>\n",
       "      <td>Penalized</td>\n",
       "      <td>0.878315</td>\n",
       "    </tr>\n",
       "    <tr>\n",
       "      <th>9</th>\n",
       "      <td>Random Forest</td>\n",
       "      <td>0.892179</td>\n",
       "    </tr>\n",
       "    <tr>\n",
       "      <th>10</th>\n",
       "      <td>Boosting</td>\n",
       "      <td>0.900661</td>\n",
       "    </tr>\n",
       "    <tr>\n",
       "      <th>11</th>\n",
       "      <td>Stacking</td>\n",
       "      <td>0.913310</td>\n",
       "    </tr>\n",
       "    <tr>\n",
       "      <th>12</th>\n",
       "      <td>Penalized</td>\n",
       "      <td>0.913793</td>\n",
       "    </tr>\n",
       "    <tr>\n",
       "      <th>13</th>\n",
       "      <td>Random Forest</td>\n",
       "      <td>0.922763</td>\n",
       "    </tr>\n",
       "    <tr>\n",
       "      <th>14</th>\n",
       "      <td>Boosting</td>\n",
       "      <td>0.943303</td>\n",
       "    </tr>\n",
       "    <tr>\n",
       "      <th>15</th>\n",
       "      <td>Stacking</td>\n",
       "      <td>0.946523</td>\n",
       "    </tr>\n",
       "    <tr>\n",
       "      <th>16</th>\n",
       "      <td>Penalized</td>\n",
       "      <td>0.917883</td>\n",
       "    </tr>\n",
       "    <tr>\n",
       "      <th>17</th>\n",
       "      <td>Random Forest</td>\n",
       "      <td>0.908112</td>\n",
       "    </tr>\n",
       "    <tr>\n",
       "      <th>18</th>\n",
       "      <td>Boosting</td>\n",
       "      <td>0.931394</td>\n",
       "    </tr>\n",
       "    <tr>\n",
       "      <th>19</th>\n",
       "      <td>Stacking</td>\n",
       "      <td>0.942283</td>\n",
       "    </tr>\n",
       "  </tbody>\n",
       "</table>\n",
       "</div>"
      ],
      "text/plain": [
       "       model_type     score\n",
       "0       Penalized  0.911262\n",
       "1   Random Forest  0.910505\n",
       "2        Boosting  0.933733\n",
       "3        Stacking  0.937625\n",
       "4       Penalized  0.862525\n",
       "5   Random Forest  0.848118\n",
       "6        Boosting  0.865773\n",
       "7        Stacking  0.889241\n",
       "8       Penalized  0.878315\n",
       "9   Random Forest  0.892179\n",
       "10       Boosting  0.900661\n",
       "11       Stacking  0.913310\n",
       "12      Penalized  0.913793\n",
       "13  Random Forest  0.922763\n",
       "14       Boosting  0.943303\n",
       "15       Stacking  0.946523\n",
       "16      Penalized  0.917883\n",
       "17  Random Forest  0.908112\n",
       "18       Boosting  0.931394\n",
       "19       Stacking  0.942283"
      ]
     },
     "execution_count": 15,
     "metadata": {},
     "output_type": "execute_result"
    }
   ],
   "source": [
    "#stack df_scores to model_type and score columns\n",
    "df_model_scores = df_scores.stack().reset_index().rename(columns={'level_1':'model_type', 0:'score'}).drop('level_0', axis=1)\n",
    "df_model_scores"
   ]
  },
  {
   "cell_type": "code",
   "execution_count": 16,
   "id": "2034983e",
   "metadata": {},
   "outputs": [
    {
     "data": {
      "image/png": "[encoded data removed]",
      "text/plain": [
       "<Figure size 1000x600 with 1 Axes>"
      ]
     },
     "metadata": {},
     "output_type": "display_data"
    }
   ],
   "source": [
    "# rank model category by mean cv score\n",
    "ranks = df_model_scores.groupby('model_type')['score'].median().sort_values(ascending=False).index\n",
    "\n",
    "# plot box plots in order of median score\n",
    "plt.figure(figsize=(10,6))\n",
    "sns.boxplot(x='model_type', y='score', data=df_model_scores, order=ranks)\n",
    "plt.title('Mean Cross Validation Scores')\n",
    "plt.xlabel(\"model type\")\n",
    "plt.xticks(rotation=90)\n",
    "plt.ylabel(\"CV scores (r^2)\")\n",
    "plt.show()"
   ]
  }
 ],
 "metadata": {
  "kernelspec": {
   "display_name": "Python 3 (ipykernel)",
   "language": "python",
   "name": "python3"
  },
  "language_info": {
   "codemirror_mode": {
    "name": "ipython",
    "version": 3
   },
   "file_extension": ".py",
   "mimetype": "text/x-python",
   "name": "python",
   "nbconvert_exporter": "python",
   "pygments_lexer": "ipython3",
   "version": "3.11.1"
  }
 },
 "nbformat": 4,
 "nbformat_minor": 5
}
