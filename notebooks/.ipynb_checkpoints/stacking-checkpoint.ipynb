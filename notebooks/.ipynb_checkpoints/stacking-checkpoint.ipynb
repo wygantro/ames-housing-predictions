{
 "cells": [
  {
   "cell_type": "code",
   "execution_count": null,
   "id": "f6091d59",
   "metadata": {},
   "outputs": [],
   "source": [
    "# import dependencies and global settings\n",
    "import numpy as np\n",
    "import pandas as pd\n",
    "import matplotlib.pyplot as plt\n",
    "import seaborn as sns\n",
    "sns.set_style('whitegrid')\n",
    "\n",
    "from sklearn.model_selection import KFold, StratifiedKFold, cross_validate, cross_val_predict, cross_val_score\n",
    "from sklearn.ensemble import StackingRegressor, RandomForestRegressor\n",
    "from sklearn.metrics import mean_absolute_error\n",
    "\n",
    "import pickle"
   ]
  },
  {
   "cell_type": "code",
   "execution_count": null,
   "id": "5e2030bc",
   "metadata": {},
   "outputs": [],
   "source": [
    "# load linear features (X) and target variable (y) dataframes\n",
    "X = pd.read_csv('./data_frames/housing_X_features.csv', index_col=0)\n",
    "y = pd.read_csv('./data_frames/housing_y_target.csv', index_col=0)"
   ]
  },
  {
   "cell_type": "code",
   "execution_count": null,
   "id": "5539affe",
   "metadata": {},
   "outputs": [],
   "source": [
    "# dummy encode all categorical features\n",
    "X = pd.get_dummies(X, drop_first=True)"
   ]
  },
  {
   "cell_type": "markdown",
   "id": "874dc3b6",
   "metadata": {},
   "source": [
    "## Load models and train stacking regressor"
   ]
  },
  {
   "cell_type": "code",
   "execution_count": null,
   "id": "d16627b7",
   "metadata": {},
   "outputs": [],
   "source": [
    "# load models\n",
    "lr_lasso = pd.read_pickle(r'./models/lr_lasso.pkl')\n",
    "rfr_bagging = pd.read_pickle(r'./models/rfr_bagging.pkl')\n",
    "rfr_boosting = pd.read_pickle(r'./models/rfr_boosting.pkl')"
   ]
  },
  {
   "cell_type": "code",
   "execution_count": null,
   "id": "0f20dfab",
   "metadata": {},
   "outputs": [],
   "source": [
    "level_0_estimators = dict()\n",
    "level_0_estimators[\"lr_lasso\"] = lr_lasso.best_estimator_\n",
    "level_0_estimators[\"rfr_bagging\"] = rfr_bagging.best_estimator_\n",
    "level_0_estimators[\"rfr_boosting\"] = rfr_boosting.best_estimator_\n",
    " \n",
    "level_0_columns = [f\"{name}_prediction\" for name in level_0_estimators.keys()]\n",
    "\n",
    "rand_state=12\n",
    "level_1_estimator = RandomForestRegressor(random_state=rand_state)"
   ]
  },
  {
   "cell_type": "code",
   "execution_count": null,
   "id": "0094c586",
   "metadata": {},
   "outputs": [],
   "source": [
    "k=5\n",
    "cv = KFold(n_splits=k, shuffle=True, random_state=12)\n",
    "stacking_clf = StackingRegressor(estimators=list(level_0_estimators.items()),\n",
    "                                 final_estimator=level_1_estimator,\n",
    "                                 passthrough=True,\n",
    "                                 cv=cv)"
   ]
  },
  {
   "cell_type": "code",
   "execution_count": null,
   "id": "2438ec9d",
   "metadata": {},
   "outputs": [],
   "source": [
    "# cross validation\n",
    "k=5\n",
    "cv = KFold(n_splits=k, shuffle=True, random_state=12)\n",
    "stacking_cv_results = cross_validate(stacking_clf, X, np.ravel(y), cv=cv, return_train_score=True, return_estimator=True)\n",
    "\n",
    "for test_score in stacking_cv_results['test_score']:\n",
    "    print(test_score)\n",
    "    # test_error = 1 - test_score\n",
    "    # print(test_error)\n",
    "\n",
    "print('Mean Score (r^2)=' + str(stacking_cv_results['test_score'].mean()))"
   ]
  },
  {
   "cell_type": "code",
   "execution_count": null,
   "id": "0a295a49",
   "metadata": {},
   "outputs": [],
   "source": [
    "# save cv_results to pickle file\n",
    "filename = './models/stacking_cv_results.pkl'\n",
    "outfile = open(filename,'wb')\n",
    "pickle.dump(stacking_cv_results, outfile)\n",
    "outfile.close()"
   ]
  },
  {
   "cell_type": "code",
   "execution_count": null,
   "id": "f861f46b",
   "metadata": {},
   "outputs": [],
   "source": [
    "# find and save best model from cv\n",
    "stacking_best_model = stacking_cv_results['estimator'][np.where(stacking_cv_results['test_score'] == \n",
    "                                                                stacking_cv_results['test_score'])[0][0]]\n",
    "#calculate MAE\n",
    "y_pred = stacking_best_model.predict(X)\n",
    "print('Mean Absolute Error:' + str(mean_absolute_error(y, y_pred)))"
   ]
  },
  {
   "cell_type": "markdown",
   "id": "b7ef84ca",
   "metadata": {},
   "source": [
    "## Save scores and graph results"
   ]
  },
  {
   "cell_type": "code",
   "execution_count": null,
   "id": "460982ac",
   "metadata": {},
   "outputs": [],
   "source": [
    "#lasso scores\n",
    "lr_lasso_scores = [lr_lasso.cv_results_['split0_test_score'][lr_lasso.best_index_],\n",
    "                   lr_lasso.cv_results_['split1_test_score'][lr_lasso.best_index_],\n",
    "                   lr_lasso.cv_results_['split2_test_score'][lr_lasso.best_index_],\n",
    "                   lr_lasso.cv_results_['split3_test_score'][lr_lasso.best_index_],\n",
    "                   lr_lasso.cv_results_['split4_test_score'][lr_lasso.best_index_]]\n",
    "lr_lasso_scores"
   ]
  },
  {
   "cell_type": "code",
   "execution_count": null,
   "id": "5f8815b1",
   "metadata": {},
   "outputs": [],
   "source": [
    "#bagging scores\n",
    "rfr_bagging_scores = [rfr_bagging.cv_results_['split0_test_score'][rfr_bagging.best_index_],\n",
    "                      rfr_bagging.cv_results_['split1_test_score'][rfr_bagging.best_index_],\n",
    "                      rfr_bagging.cv_results_['split2_test_score'][rfr_bagging.best_index_],\n",
    "                      rfr_bagging.cv_results_['split3_test_score'][rfr_bagging.best_index_],\n",
    "                      rfr_bagging.cv_results_['split4_test_score'][rfr_bagging.best_index_]]\n",
    "rfr_bagging_scores"
   ]
  },
  {
   "cell_type": "code",
   "execution_count": null,
   "id": "7f43721a",
   "metadata": {},
   "outputs": [],
   "source": [
    "#boosting scores\n",
    "rfr_boosting_scores = [rfr_boosting.cv_results_['split0_test_score'][rfr_boosting.best_index_],\n",
    "                       rfr_boosting.cv_results_['split1_test_score'][rfr_boosting.best_index_],\n",
    "                       rfr_boosting.cv_results_['split2_test_score'][rfr_boosting.best_index_],\n",
    "                       rfr_boosting.cv_results_['split3_test_score'][rfr_boosting.best_index_],\n",
    "                       rfr_boosting.cv_results_['split4_test_score'][rfr_boosting.best_index_]]\n",
    "rfr_boosting_scores"
   ]
  },
  {
   "cell_type": "code",
   "execution_count": null,
   "id": "3ffcc215",
   "metadata": {},
   "outputs": [],
   "source": [
    "#load and save results from stacking model cv\n",
    "stacking_cv_results = pd.read_pickle(r'./models/stacking_cv_results.pkl')\n",
    "stacking_scores = list(stacking_cv_results['test_score'])\n",
    "stacking_scores"
   ]
  },
  {
   "cell_type": "code",
   "execution_count": null,
   "id": "a31c52c9",
   "metadata": {},
   "outputs": [],
   "source": [
    "#create dataframe\n",
    "df_scores = pd.DataFrame({'Penalized': lr_lasso_scores,\n",
    "                          'Random Forest': rfr_bagging_scores,\n",
    "                          'Boosting': rfr_boosting_scores,\n",
    "                          'Stacking': stacking_scores,})\n",
    "df_scores"
   ]
  },
  {
   "cell_type": "code",
   "execution_count": null,
   "id": "e727c215",
   "metadata": {},
   "outputs": [],
   "source": [
    "#stack df_scores to model_type and score columns\n",
    "df_model_scores = df_scores.stack().reset_index().rename(columns={'level_1':'model_type', 0:'score'}).drop('level_0', axis=1)\n",
    "df_model_scores"
   ]
  },
  {
   "cell_type": "code",
   "execution_count": null,
   "id": "31cbdc36",
   "metadata": {},
   "outputs": [],
   "source": [
    "# rank model category by mean cv score\n",
    "ranks = df_model_scores.groupby('model_type')['score'].median().sort_values(ascending=False).index\n",
    "\n",
    "# plot box plots in order of median score\n",
    "plt.figure(figsize=(10,6))\n",
    "sns.boxplot(x='model_type', y='score', data=df_model_scores, order=ranks)\n",
    "plt.title('Mean Cross Validation Scores')\n",
    "plt.xlabel(\"model type\")\n",
    "plt.xticks(rotation=90)\n",
    "plt.ylabel(\"CV scores (r^2)\")\n",
    "plt.show()"
   ]
  }
 ],
 "metadata": {
  "kernelspec": {
   "display_name": "Python 3 (ipykernel)",
   "language": "python",
   "name": "python3"
  },
  "language_info": {
   "codemirror_mode": {
    "name": "ipython",
    "version": 3
   },
   "file_extension": ".py",
   "mimetype": "text/x-python",
   "name": "python",
   "nbconvert_exporter": "python",
   "pygments_lexer": "ipython3",
   "version": "3.11.1"
  }
 },
 "nbformat": 4,
 "nbformat_minor": 5
}
