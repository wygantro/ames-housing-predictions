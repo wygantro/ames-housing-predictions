{
 "cells": [
  {
   "cell_type": "code",
   "execution_count": null,
   "id": "bee201c6",
   "metadata": {},
   "outputs": [],
   "source": [
    "# import dependencies and global settings\n",
    "import numpy as np\n",
    "import pandas as pd\n",
    "import matplotlib.pyplot as plt\n",
    "import seaborn as sns\n",
    "sns.set_style('whitegrid')"
   ]
  },
  {
   "cell_type": "code",
   "execution_count": null,
   "id": "5c4ebfe0",
   "metadata": {},
   "outputs": [],
   "source": [
    "# tabulate original results\n",
    "data = {'Model':['Linear Regression w/SBS', 'Elastic Net', 'Lasso', 'Random Forest', 'Gradient Boosting'],\n",
    "        'MAE':[15905, 13824, 14102, 5522, 6983],\n",
    "        'Score (r^2)':[0.89, 0.89, 0.90, 0.90, 0.92],\n",
    "        'Number of Features':[24, 213, 213, 79, 79],\n",
    "        'CPU time':['< 1s', '12s', '1min 3s', '1h 9min 52s', '1h 28min 54s']}"
   ]
  },
  {
   "cell_type": "code",
   "execution_count": null,
   "id": "51abc033",
   "metadata": {},
   "outputs": [],
   "source": [
    "# ranking models by r_2 error\n",
    "df = pd.DataFrame(data).sort_values('Score (r^2)', axis=0, ascending=False)\n",
    "X = df['Model']\n",
    "error = 1 - df['Score (r^2)']\n",
    "\n",
    "plt.bar(X, error, label='Scoring Error (r^2)')\n",
    "plt.xticks(rotation = 45)\n",
    "plt.ylabel(\"Scoring Error (r^2)\")\n",
    "plt.title(\"Score\")\n",
    "plt.grid(False)\n",
    "\n",
    "plt.show()"
   ]
  },
  {
   "cell_type": "code",
   "execution_count": null,
   "id": "709ddae4",
   "metadata": {},
   "outputs": [],
   "source": [
    "# ranking models by MAE\n",
    "df = pd.DataFrame(data).sort_values('MAE', axis=0, ascending=True)\n",
    "X = df['Model']\n",
    "MAE = df['MAE']\n",
    "\n",
    "plt.bar(X, MAE, label = 'Mean Absolute Error')\n",
    "plt.xticks(rotation = 45)\n",
    "plt.ylabel(\"Home Sales Price (USD)\")\n",
    "plt.title(\"Mean Absolute Error\")\n",
    "plt.grid(False)\n",
    "\n",
    "plt.show()"
   ]
  },
  {
   "cell_type": "code",
   "execution_count": null,
   "id": "5948cbf3",
   "metadata": {},
   "outputs": [],
   "source": [
    "# visualize model summary table\n",
    "model = data['Model'][0] #'Linear Regression w/SBS'\n",
    "#model = data['Model'][1] #'Elastic Net'\n",
    "#model = data['Model'][2] #'Lasso'\n",
    "#model = data['Model'][3] #'Random Forest'\n",
    "#model = data['Model'][4] #'Gradient Boosting'\n",
    "\n",
    "pd.DataFrame(df.set_index('Model').transpose()[model])"
   ]
  },
  {
   "cell_type": "markdown",
   "id": "8d3f5415",
   "metadata": {},
   "source": [
    "## Charts w/stacking model"
   ]
  },
  {
   "cell_type": "code",
   "execution_count": null,
   "id": "fffde00b",
   "metadata": {},
   "outputs": [],
   "source": [
    "# tabulate results w/stacking model\n",
    "data = {'Model':['Linear Regression w/SBS', 'Elastic Net', 'Lasso', 'Random Forest', 'Gradient Boosting', 'Stacking'], \n",
    "        'MAE':[15905, 13824, 14102, 5522, 6983, 1000],\n",
    "        'Score (r^2)':[0.89, 0.89, 0.90, 0.90, 0.92, 0.5],\n",
    "        'Number of Features':[24, 213, 213, 79, 79, 0],\n",
    "        'CPU time':['< 1s', '12s', '1min 3s', '1h 9min 52s', '1h 28min 54s', '?']}"
   ]
  },
  {
   "cell_type": "code",
   "execution_count": null,
   "id": "bb33892b",
   "metadata": {},
   "outputs": [],
   "source": [
    "# ranking models by r_2 error\n",
    "df = pd.DataFrame(data).sort_values('Score (r^2)', axis=0, ascending=False)\n",
    "X = df['Model']\n",
    "error = 1 - df['Score (r^2)']\n",
    "\n",
    "plt.bar(X, error, label='Scoring Error (r^2)')\n",
    "plt.xticks(rotation = 45)\n",
    "plt.ylabel(\"Scoring Error (r^2)\")\n",
    "plt.title(\"Score\")\n",
    "plt.grid(False)\n",
    "\n",
    "plt.show()"
   ]
  },
  {
   "cell_type": "code",
   "execution_count": null,
   "id": "3cb9b77d",
   "metadata": {},
   "outputs": [],
   "source": [
    "# ranking models by MAE\n",
    "df = pd.DataFrame(data).sort_values('MAE', axis=0, ascending=True)\n",
    "X = df['Model']\n",
    "MAE = df['MAE']\n",
    "\n",
    "plt.bar(X, MAE, label = 'Mean Absolute Error')\n",
    "plt.xticks(rotation = 45)\n",
    "plt.ylabel(\"Home Sales Price (USD)\")\n",
    "plt.title(\"Mean Absolute Error\")\n",
    "plt.grid(False)\n",
    "\n",
    "plt.show()"
   ]
  },
  {
   "cell_type": "code",
   "execution_count": null,
   "id": "f9145815",
   "metadata": {},
   "outputs": [],
   "source": [
    "# visualize stacking model summary table\n",
    "model = data['Model'][5] #'Stacking'\n",
    "pd.DataFrame(df.set_index('Model').transpose()[model])"
   ]
  },
  {
   "cell_type": "markdown",
   "id": "50adc240",
   "metadata": {},
   "source": [
    "## All metrics summarized"
   ]
  },
  {
   "cell_type": "code",
   "execution_count": null,
   "id": "a1e1c5d3",
   "metadata": {},
   "outputs": [],
   "source": [
    "# https://towardsdatascience.com/a-practical-guide-to-stacking-using-scikit-learn-91e8d021863d"
   ]
  },
  {
   "cell_type": "code",
   "execution_count": null,
   "id": "54382977",
   "metadata": {},
   "outputs": [],
   "source": [
    "# ranking models by r_2 error\n",
    "df = pd.DataFrame(data).sort_values('Score (r^2)', axis=0, ascending=False)\n",
    "X = df['Model']\n",
    "error = 1 - df['Score (r^2)']\n",
    "\n",
    "plt.bar(X, error, label='Scoring Error (r^2)')\n",
    "plt.xticks(rotation = 45)\n",
    "plt.ylabel(\"Scoring Error (r^2)\")\n",
    "plt.title(\"Score\")\n",
    "plt.grid(False)\n",
    "\n",
    "plt.show()"
   ]
  },
  {
   "cell_type": "code",
   "execution_count": null,
   "id": "10494c95",
   "metadata": {},
   "outputs": [],
   "source": [
    "# ranked boxplots\n",
    "# rank neighborhood' category by mean sale price\n",
    "df = pd.DataFrame(data).sort_values('Score (r^2)', axis=0, ascending=False)\n",
    "score_rank = df.groupby('Model')['Score (r^2)']#.sort_values(ascending=False).index()\n",
    "\n",
    "# plot box plots in order of median neighborhood sale price\n",
    "plt.figure(figsize=(10,6))\n",
    "sns.boxplot(x='Model', y='Score (r^2)', data=df)#, order=ranks)\n",
    "plt.title('Mean r^2 Score')\n",
    "plt.xticks(rotation=90)\n",
    "plt.ylabel(\"Score (r^2)\")\n",
    "plt.show()"
   ]
  },
  {
   "cell_type": "code",
   "execution_count": null,
   "id": "ee9beba9",
   "metadata": {},
   "outputs": [],
   "source": [
    "### bar graph\n",
    "\n",
    "# ranking models by r_2 error\n",
    "df = pd.DataFrame(data).sort_values('Score (r^2)', axis=0, ascending=False)\n",
    "X = df['Model']\n",
    "error = 1 - df['Score (r^2)']\n",
    "\n",
    "plt.bar(X, error, label='Scoring Error (r^2)')\n",
    "plt.xticks(rotation = 45)\n",
    "plt.ylabel(\"Scoring Error (r^2)\")\n",
    "plt.title(\"Score\")\n",
    "plt.grid(False)\n",
    "\n",
    "plt.show()"
   ]
  },
  {
   "cell_type": "code",
   "execution_count": null,
   "id": "dad8c8a9",
   "metadata": {},
   "outputs": [],
   "source": [
    "plt.figure(figsize=(10,8))\n",
    "#plt.tight_layout()\n",
    "\n",
    "#plot 1:\n",
    "x0 = np.array([0, 1, 2, 3])\n",
    "y0 = np.array([3, 8, 1, 10])\n",
    "\n",
    "x1 = np.array([0, 1, 2, 3])\n",
    "y1 = np.array([3, 8, 1, 10])\n",
    "\n",
    "x2 = np.array([0, 1, 2, 3])\n",
    "y2 = np.array([3, 8, 1, 10])\n",
    "\n",
    "x3 = np.array([0, 1, 2, 3])\n",
    "y3 = np.array([3, 8, 1, 10])\n",
    "\n",
    "x4 = np.array([0, 1, 2, 3])\n",
    "y4 = np.array([3, 8, 1, 10])\n",
    "\n",
    "x5 = np.array([0, 1, 2, 3])\n",
    "y5 = np.array([3, 8, 1, 10])\n",
    "\n",
    "#plot 1:\n",
    "plt.subplot(2, 3, 1)\n",
    "plt.title('graph1')\n",
    "plt.xlabel('x1')\n",
    "plt.ylabel('y1')\n",
    "plt.bar(x0,y0)\n",
    "plt.grid(False)\n",
    "\n",
    "#plot 2:\n",
    "plt.subplot(2, 3, 2)\n",
    "plt.title('graph2')\n",
    "plt.xlabel('x2')\n",
    "plt.ylabel('y2')\n",
    "plt.bar(x1,y1)\n",
    "plt.grid(False)\n",
    "\n",
    "#plot 3:\n",
    "plt.subplot(2, 3, 3)\n",
    "plt.title('graph3')\n",
    "plt.xlabel('x3')\n",
    "plt.ylabel('y3')\n",
    "plt.plot(x2,y2)\n",
    "plt.grid(False)\n",
    "\n",
    "#plot 4:\n",
    "plt.subplot(2, 3, 4)\n",
    "plt.title('graph4')\n",
    "plt.xlabel('x4')\n",
    "plt.ylabel('y4')\n",
    "plt.grid(False)\n",
    "plt.plot(x3,y3)\n",
    "\n",
    "#plot 5:\n",
    "plt.subplot(2, 3, 5)\n",
    "plt.title('graph5')\n",
    "plt.xlabel('x5')\n",
    "plt.ylabel('y5')\n",
    "plt.grid(False)\n",
    "plt.plot(x4,y4)\n",
    "\n",
    "#plot 6:\n",
    "plt.subplot(2, 3, 6)\n",
    "plt.title('graph6')\n",
    "plt.xlabel('x6')\n",
    "plt.ylabel('y6')\n",
    "plt.grid(False)\n",
    "plt.bar(x5,y5)\n",
    "\n",
    "plt.subplots_adjust(hspace=0.5, wspace=0.5)\n",
    "plt.suptitle(\"MY SHOP\")\n",
    "plt.grid(False)\n",
    "\n",
    "plt.show()\n",
    "\n",
    "#plt.title('Regression Score vs Number of Features')\n",
    "# plt.xlabel('Number of Features')\n",
    "# plt.ylabel('score')\n",
    "# plt.show()"
   ]
  },
  {
   "cell_type": "code",
   "execution_count": null,
   "id": "9e56e1cc",
   "metadata": {},
   "outputs": [],
   "source": []
  }
 ],
 "metadata": {
  "kernelspec": {
   "display_name": "Python 3 (ipykernel)",
   "language": "python",
   "name": "python3"
  },
  "language_info": {
   "codemirror_mode": {
    "name": "ipython",
    "version": 3
   },
   "file_extension": ".py",
   "mimetype": "text/x-python",
   "name": "python",
   "nbconvert_exporter": "python",
   "pygments_lexer": "ipython3",
   "version": "3.11.1"
  }
 },
 "nbformat": 4,
 "nbformat_minor": 5
}
