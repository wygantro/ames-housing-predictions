{
 "cells": [
  {
   "cell_type": "code",
   "execution_count": 1,
   "id": "a0464cda",
   "metadata": {},
   "outputs": [],
   "source": [
    "# import dependencies and global settings\n",
    "import numpy as np\n",
    "import pandas as pd\n",
    "\n",
    "from sklearn.linear_model import LinearRegression\n",
    "from sklearn.model_selection import KFold, cross_validate, cross_val_predict\n",
    "from sklearn.metrics import mean_absolute_error\n",
    "import pickle"
   ]
  },
  {
   "cell_type": "code",
   "execution_count": 2,
   "id": "1989c392",
   "metadata": {},
   "outputs": [],
   "source": [
    "# load linear features (X) and target variable (y) dataframes\n",
    "X = pd.read_csv('./data_frames/housing_X_features.csv', index_col=0)\n",
    "y = pd.read_csv('./data_frames/housing_y_target.csv', index_col=0)"
   ]
  },
  {
   "cell_type": "code",
   "execution_count": 3,
   "id": "a72fc1d8",
   "metadata": {},
   "outputs": [],
   "source": [
    "# dummy encode all categorical features\n",
    "X = pd.get_dummies(X, drop_first=True)"
   ]
  },
  {
   "cell_type": "code",
   "execution_count": 4,
   "id": "a312e992",
   "metadata": {},
   "outputs": [
    {
     "name": "stdout",
     "output_type": "stream",
     "text": [
      "0.9028933450524776\n",
      "-318545.90356938815\n",
      "-171.4842837493234\n",
      "-17550102.27134023\n",
      "-219105542.0635812\n",
      "Mean Score (r^2)=-47394872.163976245\n",
      "Mean Absolute Error (cross validation):19639414.219514396\n"
     ]
    }
   ],
   "source": [
    "# cross validation on train set\n",
    "lr_base = LinearRegression()\n",
    "k=5\n",
    "cv = KFold(n_splits=k, shuffle=True, random_state=12)\n",
    "cv_results = cross_validate(lr_base, X, y, cv=cv, return_train_score=True, return_estimator=True)\n",
    "cv_pred = cross_val_predict(lr_base, X, y, cv=cv)\n",
    "\n",
    "for test_score in cv_results['test_score']:\n",
    "    print(test_score)\n",
    "\n",
    "print('Mean Score (r^2)=' + str(cv_results['test_score'].mean()))\n",
    "print('Mean Absolute Error (cross validation):' + str(mean_absolute_error(y, cv_pred)))"
   ]
  },
  {
   "cell_type": "code",
   "execution_count": 5,
   "id": "14384509",
   "metadata": {},
   "outputs": [],
   "source": [
    "#fit saved model to entire data set\n",
    "lr_baseline = LinearRegression().fit(X, y)"
   ]
  },
  {
   "cell_type": "code",
   "execution_count": 6,
   "id": "e3773cdf",
   "metadata": {},
   "outputs": [],
   "source": [
    "# save lr_baseline to pickle file\n",
    "filename = './models/lr_baseline.pkl'\n",
    "outfile = open(filename,'wb')\n",
    "pickle.dump(lr_baseline, outfile)\n",
    "outfile.close()"
   ]
  },
  {
   "cell_type": "code",
   "execution_count": null,
   "id": "1bfc3880",
   "metadata": {},
   "outputs": [],
   "source": []
  }
 ],
 "metadata": {
  "kernelspec": {
   "display_name": "Python 3 (ipykernel)",
   "language": "python",
   "name": "python3"
  },
  "language_info": {
   "codemirror_mode": {
    "name": "ipython",
    "version": 3
   },
   "file_extension": ".py",
   "mimetype": "text/x-python",
   "name": "python",
   "nbconvert_exporter": "python",
   "pygments_lexer": "ipython3",
   "version": "3.11.1"
  }
 },
 "nbformat": 4,
 "nbformat_minor": 5
}
