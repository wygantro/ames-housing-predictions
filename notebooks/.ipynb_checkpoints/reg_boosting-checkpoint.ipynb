{
 "cells": [
  {
   "cell_type": "code",
   "execution_count": null,
   "id": "a4c30bc6",
   "metadata": {},
   "outputs": [],
   "source": [
    "# import dependencies and global settings\n",
    "import numpy as np\n",
    "import pandas as pd\n",
    "import matplotlib.pyplot as plt\n",
    "import plotly.graph_objects as go\n",
    "\n",
    "from sklearn import preprocessing\n",
    "from sklearn.model_selection import KFold, GridSearchCV\n",
    "from sklearn.ensemble import GradientBoostingRegressor\n",
    "from sklearn.metrics import mean_absolute_error\n",
    "\n",
    "import pickle"
   ]
  },
  {
   "cell_type": "code",
   "execution_count": null,
   "id": "8c0eabd7",
   "metadata": {},
   "outputs": [],
   "source": [
    "# load linear features (X) and target variable (y) dataframes\n",
    "X = pd.read_csv('./data_frames/housing_X_features.csv', index_col=0)\n",
    "y = pd.read_csv('./data_frames/housing_y_target.csv', index_col=0)"
   ]
  },
  {
   "cell_type": "code",
   "execution_count": null,
   "id": "38d058dd",
   "metadata": {},
   "outputs": [],
   "source": [
    "# label encode non numeric columns\n",
    "label_encoder = preprocessing.LabelEncoder()\n",
    "\n",
    "for col in list(X.select_dtypes(['object']).columns):\n",
    "    X[col] = label_encoder.fit_transform(X[col])"
   ]
  },
  {
   "cell_type": "code",
   "execution_count": null,
   "id": "1998a97d",
   "metadata": {},
   "outputs": [],
   "source": [
    "reg_boost_model = GradientBoostingRegressor(learning_rate=0.1, random_state=0, loss='squared_error')\n",
    "\n",
    "grid_para_forest = {'max_depth': range(1, 21),\n",
    "                    'n_estimators': range(10, 200, 20)}"
   ]
  },
  {
   "cell_type": "code",
   "execution_count": null,
   "id": "701ab9bb",
   "metadata": {},
   "outputs": [],
   "source": [
    "k=5\n",
    "cv = KFold(n_splits=k, shuffle=True, random_state=12)\n",
    "reg_boost_clf = GridSearchCV(reg_boost_model, grid_para_forest, scoring='r2', cv=cv)"
   ]
  },
  {
   "cell_type": "code",
   "execution_count": null,
   "id": "18c8efa7",
   "metadata": {
    "scrolled": true
   },
   "outputs": [],
   "source": [
    "%time reg_boost_clf.fit(X, np.ravel(y))"
   ]
  },
  {
   "cell_type": "code",
   "execution_count": null,
   "id": "ab9f8c30",
   "metadata": {},
   "outputs": [],
   "source": [
    "reg_boost = reg_boost_clf\n",
    "# save rfr_boosting to pickle file\n",
    "filename = './models/reg_boosting.pkl'\n",
    "outfile = open(filename,'wb')\n",
    "pickle.dump(reg_boosting, outfile)\n",
    "outfile.close()"
   ]
  },
  {
   "cell_type": "code",
   "execution_count": null,
   "id": "3093c91c",
   "metadata": {},
   "outputs": [],
   "source": [
    "# open stacking_clf.pkl\n",
    "# filename = './models/reg_boost.pkl'\n",
    "# file = open(filename, 'rb')\n",
    "# reg_boost = pickle.load(file)"
   ]
  },
  {
   "cell_type": "code",
   "execution_count": null,
   "id": "f60a60b4",
   "metadata": {},
   "outputs": [],
   "source": [
    "# print mean_test_score from cross validation and mean absolute error\n",
    "print('Max Mean Test Value (r^2):' + str(reg_boost.cv_results_['mean_test_score'][reg_boost.best_index_]))\n",
    "\n",
    "y_pred = reg_boost.best_estimator_.predict(X)\n",
    "print('Mean Absolute Error:' + str(mean_absolute_error(y, y_pred)))"
   ]
  },
  {
   "cell_type": "code",
   "execution_count": null,
   "id": "4baf9f83",
   "metadata": {},
   "outputs": [],
   "source": [
    "# create dataframe of results and pivot table\n",
    "df = pd.concat([pd.DataFrame(reg_boost.cv_results_['params']), pd.DataFrame(reg_boost.cv_results_['mean_test_score'], columns=['Score'])] ,axis=1)\n",
    "cv_table = df.pivot(index='max_depth', columns='n_estimators')\n",
    "cv_table"
   ]
  },
  {
   "cell_type": "code",
   "execution_count": null,
   "id": "fbfdf79a",
   "metadata": {},
   "outputs": [],
   "source": [
    "fig = go.Figure(data=[go.Surface(z=cv_table.values)])\n",
    "\n",
    "fig.update_layout(title='Boosting Grid Search',\n",
    "                  autosize=False,\n",
    "                  width=800,\n",
    "                  height=800,\n",
    "                  margin=dict(l=65, r=50, b=65, t=90),\n",
    "                  scene = dict(yaxis_title='N Estimators',\n",
    "                               yaxis = dict(\n",
    "                                   ticktext= ['19','17','15','13','11','9','7','5','3','1'],\n",
    "                                   tickvals= [0,3,5,7,9,11,13,15,17,19]\n",
    "                               ),\n",
    "                               xaxis_title='Max Depth',\n",
    "                               xaxis = dict(\n",
    "                                   ticktext= ['10','30','50','70','90','110','130','150','170','190'],\n",
    "                                   tickvals= [0,1,2,3,4,5,6,7,8,9]\n",
    "                               ),\n",
    "                               zaxis_title='Score')\n",
    "                 )\n",
    "\n",
    "fig.show()"
   ]
  }
 ],
 "metadata": {
  "kernelspec": {
   "display_name": "Python 3 (ipykernel)",
   "language": "python",
   "name": "python3"
  },
  "language_info": {
   "codemirror_mode": {
    "name": "ipython",
    "version": 3
   },
   "file_extension": ".py",
   "mimetype": "text/x-python",
   "name": "python",
   "nbconvert_exporter": "python",
   "pygments_lexer": "ipython3",
   "version": "3.11.1"
  }
 },
 "nbformat": 4,
 "nbformat_minor": 5
}
