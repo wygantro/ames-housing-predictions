{
 "cells": [
  {
   "cell_type": "code",
   "execution_count": 1,
   "id": "4a3c6466",
   "metadata": {},
   "outputs": [],
   "source": [
    "# import dependencies and global settings\n",
    "import numpy as np\n",
    "import pandas as pd\n",
    "import matplotlib.pyplot as plt\n",
    "\n",
    "from mlxtend.feature_selection import SequentialFeatureSelector as SFS\n",
    "from mlxtend.plotting import plot_sequential_feature_selection as plot_sfs\n",
    "\n",
    "from sklearn.model_selection import KFold, cross_validate, cross_val_predict \n",
    "from sklearn.linear_model import LinearRegression\n",
    "from sklearn.metrics import mean_absolute_error\n",
    "\n",
    "import pickle"
   ]
  },
  {
   "cell_type": "code",
   "execution_count": 2,
   "id": "1c9e9757",
   "metadata": {},
   "outputs": [],
   "source": [
    "# load linear features (X) and target variable (y) dataframes\n",
    "X = pd.read_csv('./data_frames/housing_X_features.csv', index_col=0)\n",
    "y = pd.read_csv('./data_frames/housing_y_target.csv', index_col=0)"
   ]
  },
  {
   "cell_type": "code",
   "execution_count": 3,
   "id": "f95d4571",
   "metadata": {},
   "outputs": [],
   "source": [
    "# dummy encode all categorical features\n",
    "X = pd.get_dummies(X, drop_first=True)"
   ]
  },
  {
   "cell_type": "markdown",
   "id": "777a0fd3",
   "metadata": {},
   "source": [
    "## Sequential backwards selection (SBS) search for optimal number of features"
   ]
  },
  {
   "cell_type": "code",
   "execution_count": 4,
   "id": "b8efafa0",
   "metadata": {},
   "outputs": [],
   "source": [
    "# SBS search for optimal number of features to include\n",
    "lr_sbs = LinearRegression()\n",
    "k_features=1\n",
    "sbs_search = SFS(lr_sbs,\n",
    "                 k_features=k_features,\n",
    "                 forward=False,\n",
    "                 floating=False,\n",
    "                 scoring='r2',\n",
    "                 cv=5)"
   ]
  },
  {
   "cell_type": "code",
   "execution_count": 5,
   "id": "7c6143b6",
   "metadata": {},
   "outputs": [
    {
     "name": "stdout",
     "output_type": "stream",
     "text": [
      "CPU times: total: 1h 50min 4s\n",
      "Wall time: 1h 20min 54s\n"
     ]
    },
    {
     "data": {
      "text/html": [
       "<style>#sk-container-id-1 {color: black;background-color: white;}#sk-container-id-1 pre{padding: 0;}#sk-container-id-1 div.sk-toggleable {background-color: white;}#sk-container-id-1 label.sk-toggleable__label {cursor: pointer;display: block;width: 100%;margin-bottom: 0;padding: 0.3em;box-sizing: border-box;text-align: center;}#sk-container-id-1 label.sk-toggleable__label-arrow:before {content: \"▸\";float: left;margin-right: 0.25em;color: #696969;}#sk-container-id-1 label.sk-toggleable__label-arrow:hover:before {color: black;}#sk-container-id-1 div.sk-estimator:hover label.sk-toggleable__label-arrow:before {color: black;}#sk-container-id-1 div.sk-toggleable__content {max-height: 0;max-width: 0;overflow: hidden;text-align: left;background-color: #f0f8ff;}#sk-container-id-1 div.sk-toggleable__content pre {margin: 0.2em;color: black;border-radius: 0.25em;background-color: #f0f8ff;}#sk-container-id-1 input.sk-toggleable__control:checked~div.sk-toggleable__content {max-height: 200px;max-width: 100%;overflow: auto;}#sk-container-id-1 input.sk-toggleable__control:checked~label.sk-toggleable__label-arrow:before {content: \"▾\";}#sk-container-id-1 div.sk-estimator input.sk-toggleable__control:checked~label.sk-toggleable__label {background-color: #d4ebff;}#sk-container-id-1 div.sk-label input.sk-toggleable__control:checked~label.sk-toggleable__label {background-color: #d4ebff;}#sk-container-id-1 input.sk-hidden--visually {border: 0;clip: rect(1px 1px 1px 1px);clip: rect(1px, 1px, 1px, 1px);height: 1px;margin: -1px;overflow: hidden;padding: 0;position: absolute;width: 1px;}#sk-container-id-1 div.sk-estimator {font-family: monospace;background-color: #f0f8ff;border: 1px dotted black;border-radius: 0.25em;box-sizing: border-box;margin-bottom: 0.5em;}#sk-container-id-1 div.sk-estimator:hover {background-color: #d4ebff;}#sk-container-id-1 div.sk-parallel-item::after {content: \"\";width: 100%;border-bottom: 1px solid gray;flex-grow: 1;}#sk-container-id-1 div.sk-label:hover label.sk-toggleable__label {background-color: #d4ebff;}#sk-container-id-1 div.sk-serial::before {content: \"\";position: absolute;border-left: 1px solid gray;box-sizing: border-box;top: 0;bottom: 0;left: 50%;z-index: 0;}#sk-container-id-1 div.sk-serial {display: flex;flex-direction: column;align-items: center;background-color: white;padding-right: 0.2em;padding-left: 0.2em;position: relative;}#sk-container-id-1 div.sk-item {position: relative;z-index: 1;}#sk-container-id-1 div.sk-parallel {display: flex;align-items: stretch;justify-content: center;background-color: white;position: relative;}#sk-container-id-1 div.sk-item::before, #sk-container-id-1 div.sk-parallel-item::before {content: \"\";position: absolute;border-left: 1px solid gray;box-sizing: border-box;top: 0;bottom: 0;left: 50%;z-index: -1;}#sk-container-id-1 div.sk-parallel-item {display: flex;flex-direction: column;z-index: 1;position: relative;background-color: white;}#sk-container-id-1 div.sk-parallel-item:first-child::after {align-self: flex-end;width: 50%;}#sk-container-id-1 div.sk-parallel-item:last-child::after {align-self: flex-start;width: 50%;}#sk-container-id-1 div.sk-parallel-item:only-child::after {width: 0;}#sk-container-id-1 div.sk-dashed-wrapped {border: 1px dashed gray;margin: 0 0.4em 0.5em 0.4em;box-sizing: border-box;padding-bottom: 0.4em;background-color: white;}#sk-container-id-1 div.sk-label label {font-family: monospace;font-weight: bold;display: inline-block;line-height: 1.2em;}#sk-container-id-1 div.sk-label-container {text-align: center;}#sk-container-id-1 div.sk-container {/* jupyter's `normalize.less` sets `[hidden] { display: none; }` but bootstrap.min.css set `[hidden] { display: none !important; }` so we also need the `!important` here to be able to override the default hidden behavior on the sphinx rendered scikit-learn.org. See: https://github.com/scikit-learn/scikit-learn/issues/21755 */display: inline-block !important;position: relative;}#sk-container-id-1 div.sk-text-repr-fallback {display: none;}</style><div id=\"sk-container-id-1\" class=\"sk-top-container\"><div class=\"sk-text-repr-fallback\"><pre>SequentialFeatureSelector(estimator=LinearRegression(), forward=False,\n",
       "                          k_features=(1, 1), scoring=&#x27;r2&#x27;)</pre><b>In a Jupyter environment, please rerun this cell to show the HTML representation or trust the notebook. <br />On GitHub, the HTML representation is unable to render, please try loading this page with nbviewer.org.</b></div><div class=\"sk-container\" hidden><div class=\"sk-item sk-dashed-wrapped\"><div class=\"sk-label-container\"><div class=\"sk-label sk-toggleable\"><input class=\"sk-toggleable__control sk-hidden--visually\" id=\"sk-estimator-id-1\" type=\"checkbox\" ><label for=\"sk-estimator-id-1\" class=\"sk-toggleable__label sk-toggleable__label-arrow\">SequentialFeatureSelector</label><div class=\"sk-toggleable__content\"><pre>SequentialFeatureSelector(estimator=LinearRegression(), forward=False,\n",
       "                          k_features=(1, 1), scoring=&#x27;r2&#x27;)</pre></div></div></div><div class=\"sk-parallel\"><div class=\"sk-parallel-item\"><div class=\"sk-item\"><div class=\"sk-label-container\"><div class=\"sk-label sk-toggleable\"><input class=\"sk-toggleable__control sk-hidden--visually\" id=\"sk-estimator-id-2\" type=\"checkbox\" ><label for=\"sk-estimator-id-2\" class=\"sk-toggleable__label sk-toggleable__label-arrow\">estimator: LinearRegression</label><div class=\"sk-toggleable__content\"><pre>LinearRegression()</pre></div></div></div><div class=\"sk-serial\"><div class=\"sk-item\"><div class=\"sk-estimator sk-toggleable\"><input class=\"sk-toggleable__control sk-hidden--visually\" id=\"sk-estimator-id-3\" type=\"checkbox\" ><label for=\"sk-estimator-id-3\" class=\"sk-toggleable__label sk-toggleable__label-arrow\">LinearRegression</label><div class=\"sk-toggleable__content\"><pre>LinearRegression()</pre></div></div></div></div></div></div></div></div></div></div>"
      ],
      "text/plain": [
       "SequentialFeatureSelector(estimator=LinearRegression(), forward=False,\n",
       "                          k_features=(1, 1), scoring='r2')"
      ]
     },
     "execution_count": 5,
     "metadata": {},
     "output_type": "execute_result"
    }
   ],
   "source": [
    "# fit search to X and y\n",
    "%time sbs_search.fit(X, y)"
   ]
  },
  {
   "cell_type": "code",
   "execution_count": 6,
   "id": "66562767",
   "metadata": {},
   "outputs": [],
   "source": [
    "# save lr_baseline to pickle file\n",
    "filename = './models/sbs_search.pkl'\n",
    "outfile = open(filename,'wb')\n",
    "pickle.dump(sbs_search, outfile)\n",
    "outfile.close()"
   ]
  },
  {
   "cell_type": "code",
   "execution_count": 7,
   "id": "b39ac349",
   "metadata": {},
   "outputs": [],
   "source": [
    "# append scores to sbs_search_avg_score\n",
    "sbs_search_avg_score = [] \n",
    "for key in sbs_search.get_metric_dict().keys():\n",
    "    sbs_search_avg_score.append(sbs_search.get_metric_dict()[key]['avg_score'])"
   ]
  },
  {
   "cell_type": "code",
   "execution_count": 8,
   "id": "ec280939",
   "metadata": {},
   "outputs": [],
   "source": [
    "# save number of features and scores to list\n",
    "features_x = list(sbs_search.get_metric_dict().keys())[-200:]#[::10]\n",
    "scores_y = list(np.around(np.array(sbs_search_avg_score[-200:]),4))#[::10]),4))"
   ]
  },
  {
   "cell_type": "code",
   "execution_count": 9,
   "id": "e6d30c67",
   "metadata": {},
   "outputs": [],
   "source": [
    "# define number of features retaining 95 percent range of best score\n",
    "y_95 = 0.95 * (max(scores_y) - min(scores_y)) + min(scores_y) # 95 percent of best score\n",
    "x_95 = len(list(filter(lambda x : x < y_95, sbs_search_avg_score))) # number of feature at 95 percent of best score"
   ]
  },
  {
   "cell_type": "code",
   "execution_count": 10,
   "id": "8ad54906",
   "metadata": {},
   "outputs": [
    {
     "data": {
      "image/png": "[encoded data removed]",
      "text/plain": [
       "<Figure size 1000x800 with 1 Axes>"
      ]
     },
     "metadata": {},
     "output_type": "display_data"
    }
   ],
   "source": [
    "# plot score vs number of features selected\n",
    "plt.figure(figsize=(10,8))\n",
    "plt.plot(features_x, scores_y)\n",
    "plt.hlines(y=y_95, xmin=0, xmax=len(sbs_search_avg_score), colors='grey', linestyles='--', lw=2)\n",
    "plt.vlines(x=x_95, ymin=min(scores_y), ymax=y_95, colors='grey', linestyles='--', lw=2)\n",
    "plt.annotate(str(x_95)+' features', \n",
    "             xy=(x_95, y_95), \n",
    "             xytext=(x_95+40, y_95-0.015), \n",
    "             arrowprops=dict(facecolor='black', shrink=0.05))\n",
    "\n",
    "plt.title('Regression Score vs Number of Features')\n",
    "plt.xlabel('Number of Features')\n",
    "plt.ylabel('score')\n",
    "plt.show()"
   ]
  },
  {
   "cell_type": "code",
   "execution_count": 11,
   "id": "1a4e8812",
   "metadata": {},
   "outputs": [],
   "source": [
    "# save selected feature list\n",
    "k_features = x_95 #set k_features to 95% selection threshold\n",
    "lr_sbs_features = list(sbs_search.get_metric_dict()[k_features]['feature_names']) #retrieve and save feature names"
   ]
  },
  {
   "cell_type": "code",
   "execution_count": 12,
   "id": "378ee363",
   "metadata": {},
   "outputs": [],
   "source": [
    "# save lr_sbs_features to pickle file\n",
    "filename = './models/lr_sbs_features.pkl'\n",
    "outfile = open(filename,'wb')\n",
    "pickle.dump(lr_sbs_features, outfile)\n",
    "outfile.close()"
   ]
  },
  {
   "cell_type": "markdown",
   "id": "1fa0974e",
   "metadata": {},
   "source": [
    "# Linear regression model w/SBS features"
   ]
  },
  {
   "cell_type": "code",
   "execution_count": 13,
   "id": "df4b74e5",
   "metadata": {},
   "outputs": [],
   "source": [
    "# load linear features (X) and target variable (y) dataframes\n",
    "X = pd.read_csv('./data_frames/housing_X_features.csv', index_col=0)\n",
    "y = pd.read_csv('./data_frames/housing_y_target.csv', index_col=0)"
   ]
  },
  {
   "cell_type": "code",
   "execution_count": 14,
   "id": "51452848",
   "metadata": {},
   "outputs": [],
   "source": [
    "# dummy encode all categorical features\n",
    "X = pd.get_dummies(X, drop_first=True)"
   ]
  },
  {
   "cell_type": "code",
   "execution_count": 15,
   "id": "7413da1d",
   "metadata": {},
   "outputs": [
    {
     "data": {
      "text/plain": [
       "['GrLivArea',\n",
       " 'MSSubClass',\n",
       " 'LotArea',\n",
       " 'OverallQual',\n",
       " 'OverallCond',\n",
       " 'YearBuilt',\n",
       " 'MasVnrArea',\n",
       " 'ExterQual',\n",
       " 'BsmtExposure',\n",
       " 'BsmtFinSF1',\n",
       " 'BedroomAbvGr',\n",
       " 'KitchenQual',\n",
       " 'Fireplaces',\n",
       " 'GarageCars',\n",
       " 'Neighborhood_Crawfor',\n",
       " 'Neighborhood_NoRidge',\n",
       " 'Neighborhood_NridgHt',\n",
       " 'Neighborhood_Somerst',\n",
       " 'Neighborhood_StoneBr',\n",
       " 'Condition2_PosA',\n",
       " 'BldgType_2fmCon',\n",
       " 'RoofMatl_WdShngl',\n",
       " 'Exterior1st_BrkFace',\n",
       " 'MasVnrType_None']"
      ]
     },
     "execution_count": 15,
     "metadata": {},
     "output_type": "execute_result"
    }
   ],
   "source": [
    "# load features selected from SBS\n",
    "lr_sbs_features = pd.read_pickle(r'./models/lr_sbs_features.pkl')\n",
    "lr_sbs_features"
   ]
  },
  {
   "cell_type": "code",
   "execution_count": 16,
   "id": "8df81bb0",
   "metadata": {
    "scrolled": true
   },
   "outputs": [],
   "source": [
    "# select features for X\n",
    "X = pd.DataFrame(X, columns=lr_sbs_features)"
   ]
  },
  {
   "cell_type": "code",
   "execution_count": 17,
   "id": "b16ea023",
   "metadata": {},
   "outputs": [
    {
     "name": "stdout",
     "output_type": "stream",
     "text": [
      "0.9084626808582817\n",
      "0.8748854076314055\n",
      "0.8894798407520932\n",
      "0.8979002599179363\n",
      "0.9149666310555725\n",
      "Mean Score (r^2)=0.8971389640430578\n",
      "Mean Absolute Error (cross validation):16073.579189605047\n"
     ]
    }
   ],
   "source": [
    "# cross validation on train set\n",
    "lr_sbs_base = LinearRegression()\n",
    "k=5\n",
    "cv = KFold(n_splits=k, shuffle=True, random_state=12)\n",
    "cv_results = cross_validate(lr_sbs_base, X, y, cv=cv, return_train_score=True, return_estimator=True)\n",
    "cv_pred = cross_val_predict(lr_sbs_base, X, y, cv=cv)\n",
    "\n",
    "for test_score in cv_results['test_score']:\n",
    "    print(test_score)\n",
    "    #test_error = 1 - test_score\n",
    "    #print(test_error)\n",
    "\n",
    "print('Mean Score (r^2)=' + str(cv_results['test_score'].mean()))\n",
    "print('Mean Absolute Error (cross validation):' + str(mean_absolute_error(y, cv_pred)))"
   ]
  },
  {
   "cell_type": "code",
   "execution_count": 18,
   "id": "c7d1ff8f",
   "metadata": {},
   "outputs": [
    {
     "data": {
      "text/plain": [
       "0.9149666310555725"
      ]
     },
     "execution_count": 18,
     "metadata": {},
     "output_type": "execute_result"
    }
   ],
   "source": [
    "max(cv_results['test_score'])"
   ]
  },
  {
   "cell_type": "code",
   "execution_count": 19,
   "id": "94592cdb",
   "metadata": {},
   "outputs": [],
   "source": [
    "#lr_sbs_base_best = lr_base.fit(X, y) #fit model on full data set\n",
    "lr_sbs = cv_results['estimator'][4] #select best model from cross validation\n",
    "# y_pred = lr_sbs_base_best.predict(X)\n",
    "# print('Mean Absolute Error:' + str(mean_absolute_error(y, y_pred)))"
   ]
  },
  {
   "cell_type": "code",
   "execution_count": 20,
   "id": "07281fc6",
   "metadata": {},
   "outputs": [],
   "source": [
    "# save lr_base to pickle file\n",
    "filename = './models/lr_sbs.pkl'\n",
    "outfile = open(filename,'wb')\n",
    "pickle.dump(lr_sbs, outfile)\n",
    "outfile.close()"
   ]
  },
  {
   "cell_type": "code",
   "execution_count": null,
   "id": "2ebe66da",
   "metadata": {},
   "outputs": [],
   "source": []
  }
 ],
 "metadata": {
  "kernelspec": {
   "display_name": "Python 3 (ipykernel)",
   "language": "python",
   "name": "python3"
  },
  "language_info": {
   "codemirror_mode": {
    "name": "ipython",
    "version": 3
   },
   "file_extension": ".py",
   "mimetype": "text/x-python",
   "name": "python",
   "nbconvert_exporter": "python",
   "pygments_lexer": "ipython3",
   "version": "3.11.1"
  }
 },
 "nbformat": 4,
 "nbformat_minor": 5
}
